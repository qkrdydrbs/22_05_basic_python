{
  "nbformat": 4,
  "nbformat_minor": 0,
  "metadata": {
    "colab": {
      "provenance": [],
      "authorship_tag": "ABX9TyNxn5+egUyCiFCnils81uT7",
      "include_colab_link": true
    },
    "kernelspec": {
      "name": "python3",
      "display_name": "Python 3"
    },
    "language_info": {
      "name": "python"
    }
  },
  "cells": [
    {
      "cell_type": "markdown",
      "metadata": {
        "id": "view-in-github",
        "colab_type": "text"
      },
      "source": [
        "<a href=\"https://colab.research.google.com/github/qkrdydrbs/22_05_basic_python/blob/main/pyton_1st.ipynb\" target=\"_parent\"><img src=\"https://colab.research.google.com/assets/colab-badge.svg\" alt=\"Open In Colab\"/></a>"
      ]
    },
    {
      "cell_type": "markdown",
      "source": [
        "1. \"안녕하세요\"를 화면에 출력해보자"
      ],
      "metadata": {
        "id": "05q05BoVZX4e"
      }
    },
    {
      "cell_type": "code",
      "source": [
        "print(\"안녕하세요\")"
      ],
      "metadata": {
        "colab": {
          "base_uri": "https://localhost:8080/"
        },
        "id": "Nuk-brZWZn9i",
        "outputId": "a3a864b2-7068-4c80-afb5-2fd6e268c01e"
      },
      "execution_count": 1,
      "outputs": [
        {
          "output_type": "stream",
          "name": "stdout",
          "text": [
            "안녕하세요\n"
          ]
        }
      ]
    },
    {
      "cell_type": "markdown",
      "source": [
        "2.programing에 입문하신것을 축하드립니다,룰 출력하시오\n"
      ],
      "metadata": {
        "id": "iCo6oBvaaFmH"
      }
    },
    {
      "cell_type": "code",
      "source": [
        "print(\"programing에 입문하신것을 축하드립니다,\")"
      ],
      "metadata": {
        "colab": {
          "base_uri": "https://localhost:8080/"
        },
        "id": "Gy77VW1QaQem",
        "outputId": "f8397eda-8ce8-40f0-b064-690da177d02c"
      },
      "execution_count": 2,
      "outputs": [
        {
          "output_type": "stream",
          "name": "stdout",
          "text": [
            "programing에 입문하신것을 축하드립니다,\n"
          ]
        }
      ]
    }
  ]
}